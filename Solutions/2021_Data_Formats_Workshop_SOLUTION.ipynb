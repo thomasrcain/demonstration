{
  "nbformat": 4,
  "nbformat_minor": 0,
  "metadata": {
    "colab": {
      "name": "2021 - Data Formats Workshop - SOLUTION.ipynb",
      "provenance": [],
      "collapsed_sections": [],
      "include_colab_link": true
    },
    "kernelspec": {
      "name": "python3",
      "display_name": "Python 3"
    }
  },
  "cells": [
    {
      "cell_type": "markdown",
      "metadata": {
        "id": "view-in-github",
        "colab_type": "text"
      },
      "source": [
        "<a href=\"https://colab.research.google.com/github/thomasrcain/demonstration/blob/main/Solutions/2021_Data_Formats_Workshop_SOLUTION.ipynb\" target=\"_parent\"><img src=\"https://colab.research.google.com/assets/colab-badge.svg\" alt=\"Open In Colab\"/></a>"
      ]
    },
    {
      "cell_type": "markdown",
      "metadata": {
        "id": "VkLCSXqSvyWg"
      },
      "source": [
        "# <font color=\"red\"> Data Formats - Exercises and Workshop </font>"
      ]
    },
    {
      "cell_type": "markdown",
      "metadata": {
        "id": "q2vc8cTr4B6B"
      },
      "source": [
        "### **Exercise 1 - CSV**\n",
        "* Use your browser and go to https://www.kaggle.com/datasets.\n",
        "* Search for a topic of your choice and download a CSV file.\n",
        "* View the file in either Excel or Google Sheets.\n",
        "* Do you understand the data in the file?\n",
        "* For example, you can search for `baseball` and find many CSV files.\n"
      ]
    },
    {
      "cell_type": "markdown",
      "metadata": {
        "id": "8DuKwytx43oj"
      },
      "source": [
        "### **Exercise 2 - CSV**\n",
        "Use a new Colab _Text cell_ below to create a CSV file with at least 4 columns and 5 rows of data.\n",
        "**Be creative**.  By generating the data yourself, and creating a file that has meaning to you, it'll make it easier for you to understand exercises later in the week.\n",
        "\n",
        "You will save this file and use it later in the course.\n",
        "\n",
        "**QUESTION**.  Can you open a CSV file in Excel or Google Sheets?  "
      ]
    },
    {
      "cell_type": "markdown",
      "metadata": {
        "id": "FDf7AV5XWeLB"
      },
      "source": [
        "```\n",
        "playerfirstname,playerlastname,team,numberHRs\n",
        "Mike,Schmidt,Phillies,548\n",
        "Willie,Mays,Giants,660\n",
        "Hank,Aaron,Braves,755\n",
        "Babe,Ruth,Yankees,714\n",
        "```"
      ]
    },
    {
      "cell_type": "markdown",
      "metadata": {
        "id": "dKtaaTdC9wGC"
      },
      "source": [
        "### **Exercise 3 - JSON**\n",
        "* Use your browser and go to http://api.open-notify.org/astros.json and view the result.\n",
        "* Do the same with http://api.open-notify.org/iss-now.json to see the current location of the International Space Station in latitude/longitude."
      ]
    },
    {
      "cell_type": "markdown",
      "metadata": {
        "id": "QDa9K46u9-YL"
      },
      "source": [
        "### **Exercise 4 - JSON**\n",
        "* The following API endpoint will return valid XML or JSON of a random user.\n",
        " * Paste the URL into your browser and simply note data that is in XML format:\n",
        "https://randomuser.me/api/?format=xml\n",
        " * Paste the URL into your browser and simply note data that is in JSON format.\n",
        "https://randomuser.me/api/?format=json\n"
      ]
    },
    {
      "cell_type": "markdown",
      "metadata": {
        "id": "mxEOfeww-GhL"
      },
      "source": [
        "### **Exercise 5 - JSON**\n",
        "\n",
        "What's the difference between these two JSON objects?  Are they both valid JSON?\n",
        "\n",
        "- Use [JSON Lint](https://jsonlint.com/) to check if each is valid JSON.\n",
        "\n",
        "```\n",
        "{\n",
        "  \"profile\" : {\n",
        "    \"name\" : \"Manuel Kraft\",\n",
        "    \"gender\" : \"male\",\n",
        "    \"married\" : true\n",
        "  }\n",
        "}\n",
        "```\n",
        "\n",
        "AND\n",
        "\n",
        "```\n",
        "{\n",
        "  \"profile\" : {\n",
        "    \"name\" : \"Manuel Kraft\",\n",
        "    \"gender\" : \"male\",\n",
        "    \"married\" : \"true\"\n",
        "  }\n",
        "}\n",
        "```"
      ]
    },
    {
      "cell_type": "markdown",
      "metadata": {
        "id": "zifIrrG1uG1A"
      },
      "source": [
        "### **Exercise 6 - Use the JSON Formatter Pretty Print Tool**\n",
        "\n",
        "- Go to [JSON Formatter](https://jsonformatter.org/json-pretty-print)\n",
        "- Copy the data below and paste into the tool.  Select the \"Make Pretty\" option.\n",
        "- Select the \"JSON Print\" option and see what happens.\n",
        "\n",
        "```\n",
        "{\"Title\":\"Skyfall\",\"Year\":\"2012\",\"Rated\":\"PG-13\",\"Released\":\"09 Nov 2012\",\"Runtime\":\"143 min\",\"Genre\":\"Action, Adventure, Thriller\",\"Director\":\"Sam Mendes\",\"Writer\":\"Neal Purvis, Robert Wade, John Logan, Ian Fleming (characters)\",\"Actors\":\"Daniel Craig, Judi Dench, Javier Bardem, Ralph Fiennes\",\"Plot\":\"James Bond's loyalty to M is tested when her past comes back to haunt her. When MI6 comes under attack, 007 must track down and destroy the threat, no matter how personal the cost.\",\"Language\":\"English, Turkish, Shanghainese, Portuguese, Japanese\",\"Country\":\"UK, USA, Turkey\",\"Awards\":\"Won 2 Oscars. Another 64 wins & 122 nominations.\",\"Poster\":\"https://m.media-amazon.com/images/M/MV5BMWZiNjE2OWItMTkwNy00ZWQzLWI0NTgtMWE0NjNiYTljN2Q1XkEyXkFqcGdeQXVyNzAwMjYxMzA@._V1_SX300.jpg\",\"Ratings\":[{\"Source\":\"Internet Movie Database\",\"Value\":\"7.7/10\"},{\"Source\":\"Rotten Tomatoes\",\"Value\":\"92%\"},{\"Source\":\"Metacritic\",\"Value\":\"81/100\"}],\"Metascore\":\"81\",\"imdbRating\":\"7.7\",\"imdbVotes\":\"620,878\",\"imdbID\":\"tt1074638\",\"Type\":\"movie\",\"DVD\":\"N/A\",\"BoxOffice\":\"N/A\",\"Production\":\"Eon Productions Ltd.\",\"Website\":\"N/A\",\"Response\":\"True\"}\n",
        "```"
      ]
    },
    {
      "cell_type": "markdown",
      "metadata": {
        "id": "qeOR1BTn-fdy"
      },
      "source": [
        "### **Exercise 7 - Create a JSON Object**\n",
        "- Use [JSON Formatter](https://jsonformatter.org/json-pretty-print) OR a text editor such as Atom, Notepad, or TextEdit to compose a JSON Object named `\"person\"` that has the following attributes:\n",
        "  - `firstName`\n",
        "  - `lastName`\n",
        "  - `age`\n",
        "  - `address` --- This should be its own object with **3 member**: `streetAddress`, `street`, `zipcode`\n",
        "  - `ownsPet` (either true or false)\n",
        "  - An array of `hobbies`\n",
        "- Use [JSON Lint](https://jsonlint.com/) to check if it's valid JSON.\n",
        "\n",
        "- Extend that JSON to make the array a list of objects that describe more about each hobby.  Example:  `{\"hobby\":\"hiking\", \"activityType\":\"outdoor\", \"expensive\":false}`"
      ]
    },
    {
      "cell_type": "markdown",
      "metadata": {
        "id": "h-ox0hSFxiR_"
      },
      "source": [
        "### **Exercise 8 - Fix this JSON**\n",
        "\n",
        "- Use [JSON Lint](https://jsonlint.com/) to check if it's valid JSON.\n",
        "\n",
        "```\n",
        "{\n",
        "     \"movie\" : \n",
        "      {\n",
        "       Title: \"The Wizard of Oz\",\n",
        "      \"Year\": 1939\n",
        "      \"Rated\": PG,\n",
        "      \"Released\": True,\n",
        "      \"Runtime\": \"102 min\",\n",
        "      \"Genre\": \"Adventure\", \"Family\", \"Fantasy\", Musical\",\n",
        "      \"Actors\": [ \"Judy Garland, Frank Morgan, Ray Bolger, Bert Lahr\" ]\n",
        "      \"Ratings\" : [ \n",
        "         \"Internet Movie Database\" : \"7.7/10\",\n",
        "         \"Rotten Tomatoes\":\"92%\"\n",
        "      ] \n",
        "      }\n",
        "}\n",
        "```"
      ]
    },
    {
      "cell_type": "markdown",
      "metadata": {
        "id": "FWHWh0Bk_afn"
      },
      "source": [
        "### **Exercise 9 - JSON**\n",
        "\n",
        "**NOTE:  If this Exercise was NOT done in class then do this. Otherwise skip it.**\n",
        "\n",
        "- Create a JSON formatted file of YOUR choice.\n",
        "You will use this data in an exercise later in the course.\n",
        "  - What could your data contain?  \n",
        "    - Useful information for other people to use.\n",
        "    - Useful information for you to use in an application.\n",
        "  - IDEAS: Dog or Cat breeds, Sports Team, Sports Stadiums, Plants data (maybe those in your house), List of useful websites, Occupations, Description of books in your personal library,etc. \n",
        "  - OTHER IDEAS?  Post in #general channel in Slack.\n",
        "  - NOTE.  Earlier you created a file formatted as CSV.  Can you rework that as JSON data?\n"
      ]
    }
  ]
}